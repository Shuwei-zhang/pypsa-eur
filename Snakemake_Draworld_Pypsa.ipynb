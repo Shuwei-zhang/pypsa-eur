{
  "nbformat": 4,
  "nbformat_minor": 0,
  "metadata": {
    "colab": {
      "provenance": [],
      "include_colab_link": true
    },
    "kernelspec": {
      "name": "python3",
      "display_name": "Python 3"
    },
    "language_info": {
      "name": "python"
    }
  },
  "cells": [
    {
      "cell_type": "markdown",
      "metadata": {
        "id": "view-in-github",
        "colab_type": "text"
      },
      "source": [
        "<a href=\"https://colab.research.google.com/github/Shuwei-zhang/pypsa-eur/blob/master/Snakemake_Draworld_Pypsa.ipynb\" target=\"_parent\"><img src=\"https://colab.research.google.com/assets/colab-badge.svg\" alt=\"Open In Colab\"/></a>"
      ]
    },
    {
      "cell_type": "code",
      "execution_count": null,
      "metadata": {
        "id": "vdVJwpQlK6nb"
      },
      "outputs": [],
      "source": [
        "#The version already installed..\n",
        "! pip install pypsa # power system model\n",
        "! pip install git+https://github.com/snakemake/snakemake\n",
        "! pip install pandas\n",
        "! pip install pyyaml\n",
        "! pip install matplotlib\n",
        "! pip install pyutilib\n",
        "! pip install atlite\n",
        "! pip install geopandas\n",
        "! pip install seaborn\n",
        "! pip install xarray\n",
        "! pip install shapely\n",
        "! pip install netCDF4\n",
        "! apt-get install -y -qq coinor-cbc # open source solver\n",
        "\n",
        "#! pip install vresutils #the definition of Europe need updates!!\n",
        "#! pip install git+https://github.com/Shuwei-zhang/vresutils.git"
      ]
    },
    {
      "cell_type": "code",
      "source": [
        "from google.colab import drive\n",
        "drive.mount('/content/drive')\n",
        "\n",
        "%cd /content/drive/MyDrive/Draworld_Cloud/pypsa-eur-master\n"
      ],
      "metadata": {
        "id": "EgvxI8RVMSI5"
      },
      "execution_count": null,
      "outputs": []
    },
    {
      "cell_type": "code",
      "source": [
        "# To avoid the warning, We can replace squeeze=True with squeeze=\"columns\" in the pd.read_csv function call.\n",
        "!ls\n",
        "\n",
        "!snakemake --cores all\n"
      ],
      "metadata": {
        "colab": {
          "base_uri": "https://localhost:8080/"
        },
        "id": "jQBHFiJ6LTbN",
        "outputId": "ac1ac292-adee-4dbd-be20-0bfe8437de66"
      },
      "execution_count": 3,
      "outputs": [
        {
          "output_type": "stream",
          "name": "stdout",
          "text": [
            "borg-it\t\t     doc       matplotlibrc  Snakefile\n",
            "CITATION.cff\t     envs      README.md     Snakemake_Draworld_Pypsa.ipynb\n",
            "config.default.yaml  graphics  rules\t     test\n",
            "data\t\t     LICENSES  scripts\n",
            "/bin/bash: snakemake: command not found\n"
          ]
        }
      ]
    }
  ]
}