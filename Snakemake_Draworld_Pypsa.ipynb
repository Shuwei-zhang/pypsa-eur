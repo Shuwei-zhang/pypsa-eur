{
  "nbformat": 4,
  "nbformat_minor": 0,
  "metadata": {
    "colab": {
      "provenance": [],
      "collapsed_sections": [
        "ZAbOdQ7Pno_F"
      ],
      "include_colab_link": true
    },
    "kernelspec": {
      "name": "python3",
      "display_name": "Python 3"
    },
    "language_info": {
      "name": "python"
    }
  },
  "cells": [
    {
      "cell_type": "markdown",
      "metadata": {
        "id": "view-in-github",
        "colab_type": "text"
      },
      "source": [
        "<a href=\"https://colab.research.google.com/github/Shuwei-zhang/pypsa-eur/blob/master/Snakemake_Draworld_Pypsa.ipynb\" target=\"_parent\"><img src=\"https://colab.research.google.com/assets/colab-badge.svg\" alt=\"Open In Colab\"/></a>"
      ]
    },
    {
      "cell_type": "code",
      "execution_count": null,
      "metadata": {
        "id": "vdVJwpQlK6nb"
      },
      "outputs": [],
      "source": [
        "#The version already installed..\n",
        "! pip install pypsa # power system model\n",
        "! pip install git+https://github.com/snakemake/snakemake\n",
        "! pip install pandas\n",
        "! pip install pyyaml\n",
        "! pip install matplotlib\n",
        "! pip install pyutilib\n",
        "! pip install atlite\n",
        "! pip install geopandas\n",
        "! pip install seaborn\n",
        "! pip install xarray\n",
        "! pip install shapely\n",
        "! pip install netCDF4\n",
        "! apt-get install -y -qq coinor-cbc # open source solver\n",
        "\n",
        "#! pip install vresutils #the definition of Europe need updates!!\n",
        "#! pip install git+https://github.com/Shuwei-zhang/vresutils.git"
      ]
    },
    {
      "cell_type": "code",
      "source": [
        "from google.colab import drive\n",
        "drive.mount('/content/drive')\n",
        "\n",
        "#%cd /content/drive/MyDrive/Draworld_Cloud/Pypsa-Province-model/"
      ],
      "metadata": {
        "id": "EgvxI8RVMSI5"
      },
      "execution_count": null,
      "outputs": []
    },
    {
      "cell_type": "code",
      "source": [
        "# To avoid the warning, We can replace squeeze=True with squeeze=\"columns\" in the pd.read_csv function call.\n",
        "%cd /content/drive/MyDrive/Draworld_Cloud/Pypsa-Province-model/pypsa-eur/\n",
        "!ls\n",
        "\n",
        "!snakemake --cores all\n"
      ],
      "metadata": {
        "colab": {
          "base_uri": "https://localhost:8080/"
        },
        "id": "jQBHFiJ6LTbN",
        "outputId": "da4a564c-3c8c-451b-946a-aefcfa43f443"
      },
      "execution_count": 30,
      "outputs": [
        {
          "output_type": "stream",
          "name": "stdout",
          "text": [
            "/content/drive/MyDrive/Draworld_Cloud/Pypsa-Province-model/pypsa-eur\n",
            "borg-it\t\t     config.yaml  envs\t    matplotlibrc  scripts\n",
            "CITATION.cff\t     data\t  graphics  README.md\t  Snakefile\n",
            "config.default.yaml  doc\t  LICENSES  rules\t  test\n",
            "\u001b[33mBuilding DAG of jobs...\u001b[0m\n",
            "\u001b[33mUsing shell: /usr/bin/bash\u001b[0m\n",
            "\u001b[33mProvided cores: 2\u001b[0m\n",
            "\u001b[33mRules claiming more threads will be scaled down.\u001b[0m\n",
            "\u001b[33mConda environments: ignored\u001b[0m\n",
            "\u001b[33mJob stats:\n",
            "job      count    min threads    max threads\n",
            "-----  -------  -------------  -------------\n",
            "purge        1              1              1\n",
            "total        1              1              1\n",
            "\u001b[0m\n",
            "\u001b[33mSelect jobs to execute...\u001b[0m\n",
            "\u001b[32m\u001b[0m\n",
            "\u001b[32m[Tue Mar 28 09:49:34 2023]\u001b[0m\n",
            "\u001b[32mJob 0: Purging generated resources, results and docs. Downloads are kept.\u001b[0m\n",
            "\u001b[32mReason: Rules with neither input nor output files are always executed.\u001b[0m\n",
            "\u001b[32m\u001b[0m\n",
            "Building DAG of jobs...\n",
            "Using shell: /usr/bin/bash\n",
            "Provided cores: 2\n",
            "Rules claiming more threads will be scaled down.\n",
            "Conda environments: ignored\n",
            "Select jobs to execute...\n",
            "\u001b[32m[Tue Mar 28 09:49:36 2023]\u001b[0m\n",
            "\u001b[32mFinished job 0.\u001b[0m\n",
            "\u001b[32m1 of 1 steps (100%) done\u001b[0m\n",
            "\u001b[33mComplete log: .snakemake/log/2023-03-28T094932.916230.snakemake.log\u001b[0m\n"
          ]
        }
      ]
    },
    {
      "cell_type": "markdown",
      "source": [
        "## **Below for the interim process to test**"
      ],
      "metadata": {
        "id": "ZAbOdQ7Pno_F"
      }
    },
    {
      "cell_type": "code",
      "source": [
        "!pwd\n",
        "#!git clone https://github.com/PyPSA/pypsa-eur.git\n",
        "!cd /content/drive/MyDrive/Draworld_Cloud/Pypsa-Province-model\n",
        "!git init\n",
        "!git remote add origin git@github.com:Shuwei-zhang/Pypsa-Province-model.git"
      ],
      "metadata": {
        "id": "-v3rLb-Mcxgs"
      },
      "execution_count": null,
      "outputs": []
    }
  ]
}